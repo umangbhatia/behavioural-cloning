{
 "cells": [
  {
   "cell_type": "code",
   "execution_count": 46,
   "metadata": {},
   "outputs": [],
   "source": [
    "import os\n",
    "import csv\n",
    "\n",
    "samples = []"
   ]
  },
  {
   "cell_type": "code",
   "execution_count": 47,
   "metadata": {},
   "outputs": [],
   "source": [
    "with open('./driving_log.csv') as csvfile:\n",
    "    reader = csv.reader(csvfile)\n",
    "    for line in reader:\n",
    "        samples.append(line)\n",
    "#add samples from left and right cameras"
   ]
  },
  {
   "cell_type": "code",
   "execution_count": 48,
   "metadata": {},
   "outputs": [],
   "source": [
    "from sklearn.model_selection import train_test_split\n",
    "train_samples, valid_samples = train_test_split(samples, test_size=0.2)\n"
   ]
  },
  {
   "cell_type": "code",
   "execution_count": 49,
   "metadata": {},
   "outputs": [],
   "source": [
    "import cv2\n",
    "import numpy as np\n",
    "import sklearn\n",
    "import random\n",
    "\n",
    "def generator(samples, batch_size=32):\n",
    "    num_samples = len(samples)\n",
    "    while 1:\n",
    "        random.shuffle(samples)\n",
    "        for offset in range(0, num_samples, batch_size):\n",
    "            batch_samples = samples[offset:offset+batch_size]\n",
    "            \n",
    "            images = []\n",
    "            angles = []\n",
    "            \n",
    "            for batch_sample in batch_samples:\n",
    "                angle_center = float(batch_sample[3])\n",
    "                correction = 0.2\n",
    "                angle_left = angle_center+correction\n",
    "                angle_right = angle_center-correction\n",
    "                \n",
    "                name = './IMG/'\n",
    "                center_image = cv2.imread(name+batch_sample[0].split('/')[-1])\n",
    "                left_image = cv2.imread(name+batch_sample[1].split('/')[-1])\n",
    "                right_image = cv2.imread(name+batch_sample[2].split('/')[-1])\n",
    "                \n",
    "                \n",
    "                images.extend((center_image, left_image, right_image))\n",
    "                angles.extend((angle_center, angle_left, angle_right))\n",
    "            \n",
    "            \n",
    "            aug_images = []\n",
    "            aug_angles = []\n",
    "            for img,ang in zip(images,angles):\n",
    "                aug_images.append(img)\n",
    "                aug_angles.append(ang)\n",
    "                aug_images.append(cv2.flip(img,1))\n",
    "                aug_angles.append(ang*-1.0)\n",
    "                \n",
    "            X_learn = np.array(aug_images)\n",
    "            y_learn = np.array(aug_angles)\n",
    "            yield sklearn.utils.shuffle(X_learn, y_learn)\n",
    "            \n",
    "                \n",
    "                "
   ]
  },
  {
   "cell_type": "code",
   "execution_count": 50,
   "metadata": {},
   "outputs": [
    {
     "name": "stdout",
     "output_type": "stream",
     "text": [
      "6428\n"
     ]
    }
   ],
   "source": [
    "train_generator = generator(train_samples, batch_size=32)\n",
    "valid_generator = generator(valid_samples, batch_size=32)\n",
    "print(len(train_samples))\n",
    "\n",
    "\n"
   ]
  },
  {
   "cell_type": "code",
   "execution_count": 51,
   "metadata": {},
   "outputs": [
    {
     "name": "stdout",
     "output_type": "stream",
     "text": [
      "Epoch 1/5\n",
      "38568/38568 [==============================] - 997s - loss: 0.0203 - val_loss: 0.0153\n",
      "Epoch 2/5\n",
      "38568/38568 [==============================] - 1051s - loss: 0.0166 - val_loss: 0.0179\n",
      "Epoch 3/5\n",
      "38568/38568 [==============================] - 1016s - loss: 0.0157 - val_loss: 0.0177\n",
      "Epoch 4/5\n",
      "38568/38568 [==============================] - 1128s - loss: 0.0149 - val_loss: 0.0178\n",
      "Epoch 5/5\n",
      "38568/38568 [==============================] - 1156s - loss: 0.0144 - val_loss: 0.0139\n"
     ]
    }
   ],
   "source": [
    "ch, row, col = 3, 160, 320\n",
    "\n",
    "from keras.models import Model, Sequential\n",
    "from keras.layers import Cropping2D, Dense, Activation, Flatten, Dropout, Lambda\n",
    "from keras.layers.convolutional import Convolution2D\n",
    "from keras.layers.pooling import MaxPooling2D\n",
    "\n",
    "model = Sequential()\n",
    "model.add(Lambda(lambda x: x/255.-0.5, input_shape=(160,320,3)))\n",
    "model.add(Cropping2D(cropping=((70,25),(0,0))))\n",
    "model.add(Convolution2D(24,5,5,subsample=(2,2),activation='relu'))\n",
    "model.add(Convolution2D(36,5,5,subsample=(2,2),activation='relu'))\n",
    "model.add(Convolution2D(48,5,5,subsample=(2,2),activation='relu'))\n",
    "model.add(Convolution2D(64,3,3,activation='relu'))\n",
    "model.add(Convolution2D(64,3,3,activation='relu'))\n",
    "model.add(Flatten())\n",
    "model.add(Dense(100))\n",
    "model.add(Dense(50))\n",
    "model.add(Dense(10))\n",
    "model.add(Dense(1))\n",
    "\n",
    "\n",
    "model.compile(loss='mse', optimizer='adam')\n",
    "model.fit_generator(train_generator, samples_per_epoch= \n",
    "            len(train_samples)*6, validation_data=valid_generator, \n",
    "            nb_val_samples=len(valid_samples), nb_epoch=5)\n",
    "\n",
    "model.save('model.h5')"
   ]
  },
  {
   "cell_type": "code",
   "execution_count": null,
   "metadata": {},
   "outputs": [],
   "source": []
  },
  {
   "cell_type": "code",
   "execution_count": null,
   "metadata": {},
   "outputs": [],
   "source": []
  }
 ],
 "metadata": {
  "kernelspec": {
   "display_name": "Python 3",
   "language": "python",
   "name": "python3"
  },
  "language_info": {
   "codemirror_mode": {
    "name": "ipython",
    "version": 3
   },
   "file_extension": ".py",
   "mimetype": "text/x-python",
   "name": "python",
   "nbconvert_exporter": "python",
   "pygments_lexer": "ipython3",
   "version": "3.5.2"
  },
  "widgets": {
   "state": {},
   "version": "1.1.2"
  }
 },
 "nbformat": 4,
 "nbformat_minor": 2
}
